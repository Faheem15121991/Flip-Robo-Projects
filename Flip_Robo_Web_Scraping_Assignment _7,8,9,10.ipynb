{
 "cells": [
  {
   "cell_type": "markdown",
   "metadata": {},
   "source": [
    "# Assignment no. 7. Write a python program to scrape details of all the mobile phones under Rs. 20,000 listed on Amazon.in. The scraped data should include Product Name, Price, Image URL and Average Rating."
   ]
  },
  {
   "cell_type": "code",
   "execution_count": 1,
   "metadata": {},
   "outputs": [],
   "source": [
    "# importing the required libraries\n",
    "from bs4 import BeautifulSoup\n",
    "import requests"
   ]
  },
  {
   "cell_type": "code",
   "execution_count": 2,
   "metadata": {},
   "outputs": [],
   "source": [
    "page=requests.get(\"https://www.amazon.in/Mobile-Phone-Under-20000-Rupees/s?k=Mobile+Phone+Under+20000+Rupees\")"
   ]
  },
  {
   "cell_type": "code",
   "execution_count": 3,
   "metadata": {},
   "outputs": [],
   "source": [
    "soup=BeautifulSoup(page.content,'html.parser')"
   ]
  },
  {
   "cell_type": "code",
   "execution_count": 4,
   "metadata": {},
   "outputs": [],
   "source": [
    "products=[]\n",
    "prices=[]\n",
    "images=[]\n",
    "ratings=[]"
   ]
  },
  {
   "cell_type": "code",
   "execution_count": 5,
   "metadata": {},
   "outputs": [],
   "source": [
    "product=soup.find_all('span',class_='a-size-medium a-color-base a-text-normal')\n",
    "for i in product:\n",
    "    products.append(i.text)    "
   ]
  },
  {
   "cell_type": "code",
   "execution_count": 6,
   "metadata": {},
   "outputs": [
    {
     "data": {
      "text/plain": [
       "16"
      ]
     },
     "execution_count": 6,
     "metadata": {},
     "output_type": "execute_result"
    }
   ],
   "source": [
    "len(products)"
   ]
  },
  {
   "cell_type": "code",
   "execution_count": 7,
   "metadata": {},
   "outputs": [],
   "source": [
    "products=product[:15]"
   ]
  },
  {
   "cell_type": "code",
   "execution_count": 8,
   "metadata": {},
   "outputs": [],
   "source": [
    "price=soup.find_all('span',class_='a-price-whole')\n",
    "for i in price:\n",
    "    prices.append(i.text)"
   ]
  },
  {
   "cell_type": "code",
   "execution_count": 9,
   "metadata": {},
   "outputs": [
    {
     "data": {
      "text/plain": [
       "16"
      ]
     },
     "execution_count": 9,
     "metadata": {},
     "output_type": "execute_result"
    }
   ],
   "source": [
    "len(prices)"
   ]
  },
  {
   "cell_type": "code",
   "execution_count": 10,
   "metadata": {},
   "outputs": [],
   "source": [
    "prices=prices[:15]"
   ]
  },
  {
   "cell_type": "code",
   "execution_count": 11,
   "metadata": {},
   "outputs": [],
   "source": [
    "image=soup.find_all('div',class_='a-section aok-relative s-image-fixed-height')\n",
    "for i in image:\n",
    "    images.append(i.find('img'))"
   ]
  },
  {
   "cell_type": "code",
   "execution_count": 12,
   "metadata": {},
   "outputs": [
    {
     "data": {
      "text/plain": [
       "16"
      ]
     },
     "execution_count": 12,
     "metadata": {},
     "output_type": "execute_result"
    }
   ],
   "source": [
    "len(images)"
   ]
  },
  {
   "cell_type": "code",
   "execution_count": 13,
   "metadata": {},
   "outputs": [],
   "source": [
    "images=images[:15]"
   ]
  },
  {
   "cell_type": "code",
   "execution_count": 14,
   "metadata": {},
   "outputs": [],
   "source": [
    "avg_ratings=[]\n",
    "rating=soup.find_all('span',class_='a-icon-alt')\n",
    "for i in rating:\n",
    "    ratings.append(i.text)\n",
    "# Need to skip first four ratings as they belong to something else\n",
    "ratings=ratings[4:]\n",
    "# Extracting first 3 characters of rating\n",
    "for j in ratings:\n",
    "    avg_ratings.append(j[0:3])"
   ]
  },
  {
   "cell_type": "code",
   "execution_count": 15,
   "metadata": {},
   "outputs": [
    {
     "data": {
      "text/plain": [
       "15"
      ]
     },
     "execution_count": 15,
     "metadata": {},
     "output_type": "execute_result"
    }
   ],
   "source": [
    "len(avg_ratings)"
   ]
  },
  {
   "cell_type": "code",
   "execution_count": 16,
   "metadata": {},
   "outputs": [],
   "source": [
    "import pandas as pd\n",
    "amazon_phones=pd.DataFrame({})\n",
    "amazon_phones['products']=products\n",
    "amazon_phones['prices']=prices\n",
    "amazon_phones['images']=images\n",
    "amazon_phones['avg_ratings']=avg_ratings"
   ]
  },
  {
   "cell_type": "code",
   "execution_count": 17,
   "metadata": {},
   "outputs": [
    {
     "data": {
      "text/html": [
       "<div>\n",
       "<style scoped>\n",
       "    .dataframe tbody tr th:only-of-type {\n",
       "        vertical-align: middle;\n",
       "    }\n",
       "\n",
       "    .dataframe tbody tr th {\n",
       "        vertical-align: top;\n",
       "    }\n",
       "\n",
       "    .dataframe thead th {\n",
       "        text-align: right;\n",
       "    }\n",
       "</style>\n",
       "<table border=\"1\" class=\"dataframe\">\n",
       "  <thead>\n",
       "    <tr style=\"text-align: right;\">\n",
       "      <th></th>\n",
       "      <th>products</th>\n",
       "      <th>prices</th>\n",
       "      <th>images</th>\n",
       "      <th>avg_ratings</th>\n",
       "    </tr>\n",
       "  </thead>\n",
       "  <tbody>\n",
       "    <tr>\n",
       "      <th>0</th>\n",
       "      <td>[Redmi 9 (Sky Blue, 4GB RAM, 64GB Storage)]</td>\n",
       "      <td>8,999</td>\n",
       "      <td>[\\n]</td>\n",
       "      <td>4.0</td>\n",
       "    </tr>\n",
       "    <tr>\n",
       "      <th>1</th>\n",
       "      <td>[Samsung Galaxy M31 (Ocean Blue, 6GB RAM, 128G...</td>\n",
       "      <td>16,499</td>\n",
       "      <td>[]</td>\n",
       "      <td>4.2</td>\n",
       "    </tr>\n",
       "    <tr>\n",
       "      <th>2</th>\n",
       "      <td>[Redmi 9A (Sea Blue, 3GB Ram, 32GB Storage)]</td>\n",
       "      <td>7,499</td>\n",
       "      <td>[]</td>\n",
       "      <td>4.1</td>\n",
       "    </tr>\n",
       "    <tr>\n",
       "      <th>3</th>\n",
       "      <td>[Panasonic Eluga i7 (2GB RAM, 16GB Storage, Fi...</td>\n",
       "      <td>5,000</td>\n",
       "      <td>[]</td>\n",
       "      <td>2.9</td>\n",
       "    </tr>\n",
       "    <tr>\n",
       "      <th>4</th>\n",
       "      <td>[Redmi 8A Dual (Sea Blue, 3GB RAM, 32GB Storag...</td>\n",
       "      <td>7,999</td>\n",
       "      <td>[]</td>\n",
       "      <td>4.0</td>\n",
       "    </tr>\n",
       "    <tr>\n",
       "      <th>5</th>\n",
       "      <td>[Samsung Galaxy M01 Core (Black, 2GB RAM, 32GB...</td>\n",
       "      <td>5,999</td>\n",
       "      <td>[]</td>\n",
       "      <td>3.4</td>\n",
       "    </tr>\n",
       "    <tr>\n",
       "      <th>6</th>\n",
       "      <td>[Redmi Note 9 Pro (Interstellar Black, 4GB RAM...</td>\n",
       "      <td>12,999</td>\n",
       "      <td>[]</td>\n",
       "      <td>4.2</td>\n",
       "    </tr>\n",
       "    <tr>\n",
       "      <th>7</th>\n",
       "      <td>[Samsung Galaxy M01 Core (Blue, 2GB RAM, 32GB ...</td>\n",
       "      <td>5,999</td>\n",
       "      <td>[]</td>\n",
       "      <td>3.4</td>\n",
       "    </tr>\n",
       "    <tr>\n",
       "      <th>8</th>\n",
       "      <td>[Samsung Galaxy M21 (Raven Black, 4GB RAM, 64G...</td>\n",
       "      <td>13,999</td>\n",
       "      <td>[]</td>\n",
       "      <td>4.2</td>\n",
       "    </tr>\n",
       "    <tr>\n",
       "      <th>9</th>\n",
       "      <td>[Samsung Galaxy M01 Core (Black, 1GB RAM, 16GB...</td>\n",
       "      <td>4,999</td>\n",
       "      <td>[]</td>\n",
       "      <td>3.4</td>\n",
       "    </tr>\n",
       "    <tr>\n",
       "      <th>10</th>\n",
       "      <td>[Samsung Galaxy M21 (Midnight Blue, 4GB RAM, 6...</td>\n",
       "      <td>13,999</td>\n",
       "      <td>[]</td>\n",
       "      <td>4.2</td>\n",
       "    </tr>\n",
       "    <tr>\n",
       "      <th>11</th>\n",
       "      <td>[Samsung Galaxy M31 (Space Black, 6GB RAM, 128...</td>\n",
       "      <td>16,499</td>\n",
       "      <td>[]</td>\n",
       "      <td>4.2</td>\n",
       "    </tr>\n",
       "    <tr>\n",
       "      <th>12</th>\n",
       "      <td>[Redmi Note 9 Pro Max (Aurora Blue, 6GB RAM, 6...</td>\n",
       "      <td>15,999</td>\n",
       "      <td>[]</td>\n",
       "      <td>4.1</td>\n",
       "    </tr>\n",
       "    <tr>\n",
       "      <th>13</th>\n",
       "      <td>[Redmi 8A Dual (Sky White, 3GB RAM, 64GB Stora...</td>\n",
       "      <td>7,999</td>\n",
       "      <td>[]</td>\n",
       "      <td>4.0</td>\n",
       "    </tr>\n",
       "    <tr>\n",
       "      <th>14</th>\n",
       "      <td>[Samsung Galaxy M31s (Mirage Blue, 6GB RAM, 12...</td>\n",
       "      <td>19,499</td>\n",
       "      <td>[]</td>\n",
       "      <td>4.3</td>\n",
       "    </tr>\n",
       "  </tbody>\n",
       "</table>\n",
       "</div>"
      ],
      "text/plain": [
       "                                             products  prices images  \\\n",
       "0         [Redmi 9 (Sky Blue, 4GB RAM, 64GB Storage)]   8,999   [\\n]   \n",
       "1   [Samsung Galaxy M31 (Ocean Blue, 6GB RAM, 128G...  16,499     []   \n",
       "2        [Redmi 9A (Sea Blue, 3GB Ram, 32GB Storage)]   7,499     []   \n",
       "3   [Panasonic Eluga i7 (2GB RAM, 16GB Storage, Fi...   5,000     []   \n",
       "4   [Redmi 8A Dual (Sea Blue, 3GB RAM, 32GB Storag...   7,999     []   \n",
       "5   [Samsung Galaxy M01 Core (Black, 2GB RAM, 32GB...   5,999     []   \n",
       "6   [Redmi Note 9 Pro (Interstellar Black, 4GB RAM...  12,999     []   \n",
       "7   [Samsung Galaxy M01 Core (Blue, 2GB RAM, 32GB ...   5,999     []   \n",
       "8   [Samsung Galaxy M21 (Raven Black, 4GB RAM, 64G...  13,999     []   \n",
       "9   [Samsung Galaxy M01 Core (Black, 1GB RAM, 16GB...   4,999     []   \n",
       "10  [Samsung Galaxy M21 (Midnight Blue, 4GB RAM, 6...  13,999     []   \n",
       "11  [Samsung Galaxy M31 (Space Black, 6GB RAM, 128...  16,499     []   \n",
       "12  [Redmi Note 9 Pro Max (Aurora Blue, 6GB RAM, 6...  15,999     []   \n",
       "13  [Redmi 8A Dual (Sky White, 3GB RAM, 64GB Stora...   7,999     []   \n",
       "14  [Samsung Galaxy M31s (Mirage Blue, 6GB RAM, 12...  19,499     []   \n",
       "\n",
       "   avg_ratings  \n",
       "0          4.0  \n",
       "1          4.2  \n",
       "2          4.1  \n",
       "3          2.9  \n",
       "4          4.0  \n",
       "5          3.4  \n",
       "6          4.2  \n",
       "7          3.4  \n",
       "8          4.2  \n",
       "9          3.4  \n",
       "10         4.2  \n",
       "11         4.2  \n",
       "12         4.1  \n",
       "13         4.0  \n",
       "14         4.3  "
      ]
     },
     "execution_count": 17,
     "metadata": {},
     "output_type": "execute_result"
    }
   ],
   "source": [
    "amazon_phones"
   ]
  },
  {
   "cell_type": "code",
   "execution_count": 18,
   "metadata": {},
   "outputs": [
    {
     "data": {
      "text/plain": [
       "<img alt=\"Redmi 9 (Sky Blue, 4GB RAM, 64GB Storage)\" class=\"s-image\" data-image-index=\"0\" data-image-latency=\"s-product-image\" data-image-load=\"\" data-image-source-density=\"1\" onload=\"window.uet &amp;&amp; uet('cf')\" src=\"https://m.media-amazon.com/images/I/71uZrDPrsRL._AC_UY218_.jpg\" srcset=\"https://m.media-amazon.com/images/I/71uZrDPrsRL._AC_UY218_.jpg 1x, https://m.media-amazon.com/images/I/71uZrDPrsRL._AC_UY327_QL65_.jpg 1.5x, https://m.media-amazon.com/images/I/71uZrDPrsRL._AC_UY436_QL65_.jpg 2x, https://m.media-amazon.com/images/I/71uZrDPrsRL._AC_UY545_QL65_.jpg 2.5x, https://m.media-amazon.com/images/I/71uZrDPrsRL._AC_UY654_QL65_.jpg 3x\">\n",
       "</img>"
      ]
     },
     "execution_count": 18,
     "metadata": {},
     "output_type": "execute_result"
    }
   ],
   "source": [
    "# Testing if image url is working\n",
    "amazon_phones['images'][0]"
   ]
  },
  {
   "cell_type": "markdown",
   "metadata": {},
   "source": [
    "# Assignment no. 8. Write a python program to extract information about the local weather from the National Weather Service website of USA, https://www.weather.gov/ for the city, San Francisco. You need to extract data about 7 day extended forecast display for the city. The data should include period, short description, temperature and description."
   ]
  },
  {
   "cell_type": "code",
   "execution_count": 19,
   "metadata": {},
   "outputs": [],
   "source": [
    "page=requests.get(\"https://forecast.weather.gov/MapClick.php?lat=37.777120000000025&lon=-122.41963999999996#.X80BdlUzbIU\")"
   ]
  },
  {
   "cell_type": "code",
   "execution_count": 20,
   "metadata": {},
   "outputs": [],
   "source": [
    "soup=BeautifulSoup(page.content,'html.parser')"
   ]
  },
  {
   "cell_type": "code",
   "execution_count": 21,
   "metadata": {},
   "outputs": [],
   "source": [
    "periods=[]\n",
    "short_descriptions=[]\n",
    "temps=[]\n",
    "descriptions=[]"
   ]
  },
  {
   "cell_type": "code",
   "execution_count": 22,
   "metadata": {},
   "outputs": [],
   "source": [
    "period=soup.find_all('p',class_='period-name')\n",
    "for i in period:\n",
    "    periods.append(i.text)"
   ]
  },
  {
   "cell_type": "code",
   "execution_count": 23,
   "metadata": {},
   "outputs": [],
   "source": [
    "periods=periods[:7]"
   ]
  },
  {
   "cell_type": "code",
   "execution_count": 24,
   "metadata": {},
   "outputs": [
    {
     "data": {
      "text/plain": [
       "['NOW until9:00pm Sun',\n",
       " 'Tonight',\n",
       " 'Monday',\n",
       " 'MondayNight',\n",
       " 'Tuesday',\n",
       " 'TuesdayNight',\n",
       " 'Wednesday']"
      ]
     },
     "execution_count": 24,
     "metadata": {},
     "output_type": "execute_result"
    }
   ],
   "source": [
    "periods"
   ]
  },
  {
   "cell_type": "code",
   "execution_count": 25,
   "metadata": {},
   "outputs": [],
   "source": [
    "short_descriptions=[]\n",
    "short_description=soup.find_all('p',class_='short-desc')\n",
    "for i in short_description:\n",
    "    short_descriptions.append(i.text)"
   ]
  },
  {
   "cell_type": "code",
   "execution_count": 26,
   "metadata": {},
   "outputs": [],
   "source": [
    "short_descriptions=short_descriptions[:7]"
   ]
  },
  {
   "cell_type": "code",
   "execution_count": 27,
   "metadata": {},
   "outputs": [],
   "source": [
    "temp=soup.find_all('p',class_='temp')\n",
    "for i in temp:\n",
    "    temps.append(i.text)"
   ]
  },
  {
   "cell_type": "code",
   "execution_count": 28,
   "metadata": {},
   "outputs": [],
   "source": [
    "temps=temps[:7]"
   ]
  },
  {
   "cell_type": "code",
   "execution_count": 29,
   "metadata": {},
   "outputs": [],
   "source": [
    "description=soup.find_all('div',class_='col-sm-10 forecast-text')\n",
    "for i in description:\n",
    "    descriptions.append(i.text)\n",
    "descriptions=descriptions[:7]"
   ]
  },
  {
   "cell_type": "code",
   "execution_count": 30,
   "metadata": {},
   "outputs": [],
   "source": [
    "import pandas as pd\n",
    "weather=pd.DataFrame({})\n",
    "weather['periods']=periods\n",
    "weather['short_descriptions']=short_descriptions\n",
    "weather['temps']=temps\n",
    "weather['descriptions']=descriptions"
   ]
  },
  {
   "cell_type": "code",
   "execution_count": 31,
   "metadata": {},
   "outputs": [
    {
     "data": {
      "text/html": [
       "<div>\n",
       "<style scoped>\n",
       "    .dataframe tbody tr th:only-of-type {\n",
       "        vertical-align: middle;\n",
       "    }\n",
       "\n",
       "    .dataframe tbody tr th {\n",
       "        vertical-align: top;\n",
       "    }\n",
       "\n",
       "    .dataframe thead th {\n",
       "        text-align: right;\n",
       "    }\n",
       "</style>\n",
       "<table border=\"1\" class=\"dataframe\">\n",
       "  <thead>\n",
       "    <tr style=\"text-align: right;\">\n",
       "      <th></th>\n",
       "      <th>periods</th>\n",
       "      <th>short_descriptions</th>\n",
       "      <th>temps</th>\n",
       "      <th>descriptions</th>\n",
       "    </tr>\n",
       "  </thead>\n",
       "  <tbody>\n",
       "    <tr>\n",
       "      <th>0</th>\n",
       "      <td>NOW until9:00pm Sun</td>\n",
       "      <td>High Surf Warning</td>\n",
       "      <td>Low: 47 °F</td>\n",
       "      <td>Mostly cloudy, with a low around 47. Northwest...</td>\n",
       "    </tr>\n",
       "    <tr>\n",
       "      <th>1</th>\n",
       "      <td>Tonight</td>\n",
       "      <td>Mostly Cloudy</td>\n",
       "      <td>High: 59 °F</td>\n",
       "      <td>Mostly sunny, with a high near 59. North wind ...</td>\n",
       "    </tr>\n",
       "    <tr>\n",
       "      <th>2</th>\n",
       "      <td>Monday</td>\n",
       "      <td>Mostly Sunny</td>\n",
       "      <td>Low: 48 °F</td>\n",
       "      <td>Mostly cloudy, with a low around 48. West wind...</td>\n",
       "    </tr>\n",
       "    <tr>\n",
       "      <th>3</th>\n",
       "      <td>MondayNight</td>\n",
       "      <td>Mostly Cloudy</td>\n",
       "      <td>High: 60 °F</td>\n",
       "      <td>Mostly cloudy, with a high near 60. Light and ...</td>\n",
       "    </tr>\n",
       "    <tr>\n",
       "      <th>4</th>\n",
       "      <td>Tuesday</td>\n",
       "      <td>Mostly Cloudy</td>\n",
       "      <td>Low: 50 °F</td>\n",
       "      <td>Mostly cloudy, with a low around 50. West sout...</td>\n",
       "    </tr>\n",
       "    <tr>\n",
       "      <th>5</th>\n",
       "      <td>TuesdayNight</td>\n",
       "      <td>Mostly Cloudy</td>\n",
       "      <td>High: 63 °F</td>\n",
       "      <td>Mostly cloudy, with a high near 63.</td>\n",
       "    </tr>\n",
       "    <tr>\n",
       "      <th>6</th>\n",
       "      <td>Wednesday</td>\n",
       "      <td>Mostly Cloudy</td>\n",
       "      <td>Low: 50 °F</td>\n",
       "      <td>Mostly cloudy, with a low around 50.</td>\n",
       "    </tr>\n",
       "  </tbody>\n",
       "</table>\n",
       "</div>"
      ],
      "text/plain": [
       "               periods short_descriptions        temps  \\\n",
       "0  NOW until9:00pm Sun  High Surf Warning   Low: 47 °F   \n",
       "1              Tonight      Mostly Cloudy  High: 59 °F   \n",
       "2               Monday       Mostly Sunny   Low: 48 °F   \n",
       "3          MondayNight      Mostly Cloudy  High: 60 °F   \n",
       "4              Tuesday      Mostly Cloudy   Low: 50 °F   \n",
       "5         TuesdayNight      Mostly Cloudy  High: 63 °F   \n",
       "6            Wednesday      Mostly Cloudy   Low: 50 °F   \n",
       "\n",
       "                                        descriptions  \n",
       "0  Mostly cloudy, with a low around 47. Northwest...  \n",
       "1  Mostly sunny, with a high near 59. North wind ...  \n",
       "2  Mostly cloudy, with a low around 48. West wind...  \n",
       "3  Mostly cloudy, with a high near 60. Light and ...  \n",
       "4  Mostly cloudy, with a low around 50. West sout...  \n",
       "5                Mostly cloudy, with a high near 63.  \n",
       "6               Mostly cloudy, with a low around 50.  "
      ]
     },
     "execution_count": 31,
     "metadata": {},
     "output_type": "execute_result"
    }
   ],
   "source": [
    "weather"
   ]
  },
  {
   "cell_type": "markdown",
   "metadata": {},
   "source": [
    "# Assignment no. 9. Write a python program to scrape ‘software developer’ job listings from ‘Monster.com’. It should include all the jobs listed for the next 5 pages."
   ]
  },
  {
   "cell_type": "code",
   "execution_count": 32,
   "metadata": {},
   "outputs": [],
   "source": [
    "page=requests.get(\"https://www.monster.com/jobs/search/?q=Software-Developer&where=india\")"
   ]
  },
  {
   "cell_type": "code",
   "execution_count": 33,
   "metadata": {},
   "outputs": [],
   "source": [
    "soup=BeautifulSoup(page.content,'html.parser')"
   ]
  },
  {
   "cell_type": "code",
   "execution_count": 34,
   "metadata": {},
   "outputs": [],
   "source": [
    "jobs=[]\n",
    "Days=[]\n",
    "Company=[]\n",
    "Location=[]"
   ]
  },
  {
   "cell_type": "code",
   "execution_count": 35,
   "metadata": {},
   "outputs": [],
   "source": [
    "job=soup.find_all('h2',class_='title')\n",
    "for i in job:\n",
    "    jobs.append(i.text.replace('\\r\\n',''))"
   ]
  },
  {
   "cell_type": "code",
   "execution_count": 36,
   "metadata": {},
   "outputs": [
    {
     "data": {
      "text/plain": [
       "['Senior Software Engineer - Backend (GoLang/Java) - Bengaluru, Karnataka',\n",
       " 'Software Engineer - .Net Core & Vue JS - Bangalore, Karnataka',\n",
       " 'Power BI developer - Remote India',\n",
       " 'Staff Software Engineer - Consumer Trust -P4',\n",
       " 'Senior Software Engineer - .Net core & Vue JS - Bangalore, Karnataka',\n",
       " 'Software Engineer II - Backend (GoLang) - Bengaluru, Karnataka',\n",
       " 'Senior Software Engineer - Consumer Trust -P3',\n",
       " 'Staff, Software Engineer (L4)',\n",
       " 'Software Engineer - .Net - Bangalore, Karnataka',\n",
       " 'Software Engineer I - C#.net - Bengaluru, Karnataka',\n",
       " 'Software Engineer (L3)',\n",
       " 'Senior Software Engineer - (Angular) - Bangalore, Karnataka',\n",
       " 'Senior Software Engineer - C#.net - Bengaluru, Karnataka',\n",
       " 'Technical Support Engineer 3 (Developer, EMEA)',\n",
       " 'Senior Software Engineer - (.Net) - Bangalore, Karnataka',\n",
       " 'Senior Software Engineer -  Backend (GoLang/Java) - Bengaluru, Karnataka',\n",
       " 'Software Engineer (Progress 4GL) - Bangalore, Karnataka',\n",
       " 'Software Engineer',\n",
       " 'Senior Software Engineer - Fullstack (GoLang/Java + Javascript/React.js) - Bengaluru, Karnataka',\n",
       " 'Staff Software Engineer',\n",
       " 'Software Engineer - (.Net) - Bangalore, Karnataka',\n",
       " 'Senior Software Engineer - IW - Bengaluru, Karnataka',\n",
       " 'Senior LAMP Developer - Bangalore, Karnataka',\n",
       " 'Software Engineer - Consumer Trust -P2',\n",
       " 'Software Engineer - (.Net) - Bangalore, Karnataka']"
      ]
     },
     "execution_count": 36,
     "metadata": {},
     "output_type": "execute_result"
    }
   ],
   "source": [
    "jobs"
   ]
  },
  {
   "cell_type": "code",
   "execution_count": 37,
   "metadata": {},
   "outputs": [
    {
     "data": {
      "text/plain": [
       "25"
      ]
     },
     "execution_count": 37,
     "metadata": {},
     "output_type": "execute_result"
    }
   ],
   "source": [
    "len(jobs)"
   ]
  },
  {
   "cell_type": "code",
   "execution_count": 38,
   "metadata": {},
   "outputs": [],
   "source": [
    "day=soup.find_all('div',class_='meta flex-col')\n",
    "for i in day:\n",
    "    Days.append(i.text.replace('\\n','').replace('AppliedSaved',''))"
   ]
  },
  {
   "cell_type": "code",
   "execution_count": 39,
   "metadata": {},
   "outputs": [
    {
     "data": {
      "text/plain": [
       "['27 days ago',\n",
       " '+30 days ago',\n",
       " '2 days ago',\n",
       " '6 days ago',\n",
       " '+30 days ago',\n",
       " '+30 days ago',\n",
       " '21 days ago',\n",
       " '30 days ago',\n",
       " '+30 days ago',\n",
       " '+30 days ago',\n",
       " '+30 days ago',\n",
       " '+30 days ago',\n",
       " '+30 days ago',\n",
       " '+30 days ago',\n",
       " '+30 days ago',\n",
       " '+30 days ago',\n",
       " '+30 days ago',\n",
       " '+30 days ago',\n",
       " '+30 days ago',\n",
       " '+30 days ago',\n",
       " '+30 days ago',\n",
       " '+30 days ago',\n",
       " '+30 days ago',\n",
       " '+30 days ago',\n",
       " '+30 days ago']"
      ]
     },
     "execution_count": 39,
     "metadata": {},
     "output_type": "execute_result"
    }
   ],
   "source": [
    "Days"
   ]
  },
  {
   "cell_type": "code",
   "execution_count": 40,
   "metadata": {},
   "outputs": [
    {
     "data": {
      "text/plain": [
       "25"
      ]
     },
     "execution_count": 40,
     "metadata": {},
     "output_type": "execute_result"
    }
   ],
   "source": [
    "len(Days)"
   ]
  },
  {
   "cell_type": "code",
   "execution_count": 41,
   "metadata": {},
   "outputs": [],
   "source": [
    "comp=soup.find_all('span',class_='name')\n",
    "# Even Indices are companies\n",
    "for i in range(0,len(comp),2):\n",
    "    Company.append(comp[i].text)"
   ]
  },
  {
   "cell_type": "code",
   "execution_count": 42,
   "metadata": {},
   "outputs": [
    {
     "data": {
      "text/plain": [
       "['EagleView Technologies',\n",
       " 'MRI Software',\n",
       " 'Matchpoint Solutions',\n",
       " 'Twilio',\n",
       " 'MRI Software',\n",
       " 'EagleView Technologies',\n",
       " 'Twilio',\n",
       " 'Twilio',\n",
       " 'MRI Software',\n",
       " 'EagleView Technologies',\n",
       " 'Twilio',\n",
       " 'MRI Software',\n",
       " 'EagleView Technologies',\n",
       " 'Twilio',\n",
       " 'MRI Software',\n",
       " 'EagleView Technologies',\n",
       " 'MRI Software',\n",
       " 'Twilio',\n",
       " 'EagleView Technologies',\n",
       " 'Twilio',\n",
       " 'MRI Software',\n",
       " 'EagleView Technologies',\n",
       " 'MRI Software',\n",
       " 'Twilio',\n",
       " 'MRI Software']"
      ]
     },
     "execution_count": 42,
     "metadata": {},
     "output_type": "execute_result"
    }
   ],
   "source": [
    "Company"
   ]
  },
  {
   "cell_type": "code",
   "execution_count": 43,
   "metadata": {},
   "outputs": [
    {
     "data": {
      "text/plain": [
       "25"
      ]
     },
     "execution_count": 43,
     "metadata": {},
     "output_type": "execute_result"
    }
   ],
   "source": [
    "len(Company)"
   ]
  },
  {
   "cell_type": "code",
   "execution_count": 44,
   "metadata": {},
   "outputs": [],
   "source": [
    "# Odd Indices are locations\n",
    "for i in range(1,len(comp),2):\n",
    "    Location.append(comp[i].text.replace('\\r\\n',''))"
   ]
  },
  {
   "cell_type": "code",
   "execution_count": 45,
   "metadata": {},
   "outputs": [
    {
     "data": {
      "text/plain": [
       "['Bengaluru, KT',\n",
       " 'Bangalore, KT',\n",
       " 'Remote',\n",
       " 'Bengaluru, Karnataka, KT',\n",
       " 'Bangalore, KT',\n",
       " 'Bengaluru, KT',\n",
       " 'Bengaluru, Karnataka, KT',\n",
       " 'Bengaluru, Karnataka, KT',\n",
       " 'Bangalore, KT',\n",
       " 'Bengaluru, KT',\n",
       " 'Bengaluru, Karnataka, KT',\n",
       " 'Bangalore, KT',\n",
       " 'Bengaluru, KT',\n",
       " 'Bengaluru, Karnataka, KT',\n",
       " 'Bangalore, KT',\n",
       " 'Bengaluru, KT',\n",
       " 'Bangalore, KT',\n",
       " 'Bengaluru, Karnataka, KT',\n",
       " 'Bengaluru, KT',\n",
       " 'Bengaluru, Karnataka, KT',\n",
       " 'Bangalore, KT',\n",
       " 'Bengaluru, KT',\n",
       " 'Bangalore, KT',\n",
       " 'Bengaluru, Karnataka, KT',\n",
       " 'Bangalore, KT']"
      ]
     },
     "execution_count": 45,
     "metadata": {},
     "output_type": "execute_result"
    }
   ],
   "source": [
    "Location"
   ]
  },
  {
   "cell_type": "code",
   "execution_count": 46,
   "metadata": {},
   "outputs": [
    {
     "data": {
      "text/plain": [
       "25"
      ]
     },
     "execution_count": 46,
     "metadata": {},
     "output_type": "execute_result"
    }
   ],
   "source": [
    "len(Location)"
   ]
  },
  {
   "cell_type": "code",
   "execution_count": 47,
   "metadata": {},
   "outputs": [],
   "source": [
    "import pandas as pd\n",
    "monster_jobs=pd.DataFrame({})\n",
    "monster_jobs['jobs']=jobs\n",
    "monster_jobs['Days']=Days\n",
    "monster_jobs['Company']=Company\n",
    "monster_jobs['Location']=Location"
   ]
  },
  {
   "cell_type": "code",
   "execution_count": 48,
   "metadata": {},
   "outputs": [
    {
     "data": {
      "text/html": [
       "<div>\n",
       "<style scoped>\n",
       "    .dataframe tbody tr th:only-of-type {\n",
       "        vertical-align: middle;\n",
       "    }\n",
       "\n",
       "    .dataframe tbody tr th {\n",
       "        vertical-align: top;\n",
       "    }\n",
       "\n",
       "    .dataframe thead th {\n",
       "        text-align: right;\n",
       "    }\n",
       "</style>\n",
       "<table border=\"1\" class=\"dataframe\">\n",
       "  <thead>\n",
       "    <tr style=\"text-align: right;\">\n",
       "      <th></th>\n",
       "      <th>jobs</th>\n",
       "      <th>Days</th>\n",
       "      <th>Company</th>\n",
       "      <th>Location</th>\n",
       "    </tr>\n",
       "  </thead>\n",
       "  <tbody>\n",
       "    <tr>\n",
       "      <th>0</th>\n",
       "      <td>Senior Software Engineer - Backend (GoLang/Jav...</td>\n",
       "      <td>27 days ago</td>\n",
       "      <td>EagleView Technologies</td>\n",
       "      <td>Bengaluru, KT</td>\n",
       "    </tr>\n",
       "    <tr>\n",
       "      <th>1</th>\n",
       "      <td>Software Engineer - .Net Core &amp; Vue JS - Banga...</td>\n",
       "      <td>+30 days ago</td>\n",
       "      <td>MRI Software</td>\n",
       "      <td>Bangalore, KT</td>\n",
       "    </tr>\n",
       "    <tr>\n",
       "      <th>2</th>\n",
       "      <td>Power BI developer - Remote India</td>\n",
       "      <td>2 days ago</td>\n",
       "      <td>Matchpoint Solutions</td>\n",
       "      <td>Remote</td>\n",
       "    </tr>\n",
       "    <tr>\n",
       "      <th>3</th>\n",
       "      <td>Staff Software Engineer - Consumer Trust -P4</td>\n",
       "      <td>6 days ago</td>\n",
       "      <td>Twilio</td>\n",
       "      <td>Bengaluru, Karnataka, KT</td>\n",
       "    </tr>\n",
       "    <tr>\n",
       "      <th>4</th>\n",
       "      <td>Senior Software Engineer - .Net core &amp; Vue JS ...</td>\n",
       "      <td>+30 days ago</td>\n",
       "      <td>MRI Software</td>\n",
       "      <td>Bangalore, KT</td>\n",
       "    </tr>\n",
       "    <tr>\n",
       "      <th>5</th>\n",
       "      <td>Software Engineer II - Backend (GoLang) - Beng...</td>\n",
       "      <td>+30 days ago</td>\n",
       "      <td>EagleView Technologies</td>\n",
       "      <td>Bengaluru, KT</td>\n",
       "    </tr>\n",
       "    <tr>\n",
       "      <th>6</th>\n",
       "      <td>Senior Software Engineer - Consumer Trust -P3</td>\n",
       "      <td>21 days ago</td>\n",
       "      <td>Twilio</td>\n",
       "      <td>Bengaluru, Karnataka, KT</td>\n",
       "    </tr>\n",
       "    <tr>\n",
       "      <th>7</th>\n",
       "      <td>Staff, Software Engineer (L4)</td>\n",
       "      <td>30 days ago</td>\n",
       "      <td>Twilio</td>\n",
       "      <td>Bengaluru, Karnataka, KT</td>\n",
       "    </tr>\n",
       "    <tr>\n",
       "      <th>8</th>\n",
       "      <td>Software Engineer - .Net - Bangalore, Karnataka</td>\n",
       "      <td>+30 days ago</td>\n",
       "      <td>MRI Software</td>\n",
       "      <td>Bangalore, KT</td>\n",
       "    </tr>\n",
       "    <tr>\n",
       "      <th>9</th>\n",
       "      <td>Software Engineer I - C#.net - Bengaluru, Karn...</td>\n",
       "      <td>+30 days ago</td>\n",
       "      <td>EagleView Technologies</td>\n",
       "      <td>Bengaluru, KT</td>\n",
       "    </tr>\n",
       "    <tr>\n",
       "      <th>10</th>\n",
       "      <td>Software Engineer (L3)</td>\n",
       "      <td>+30 days ago</td>\n",
       "      <td>Twilio</td>\n",
       "      <td>Bengaluru, Karnataka, KT</td>\n",
       "    </tr>\n",
       "    <tr>\n",
       "      <th>11</th>\n",
       "      <td>Senior Software Engineer - (Angular) - Bangalo...</td>\n",
       "      <td>+30 days ago</td>\n",
       "      <td>MRI Software</td>\n",
       "      <td>Bangalore, KT</td>\n",
       "    </tr>\n",
       "    <tr>\n",
       "      <th>12</th>\n",
       "      <td>Senior Software Engineer - C#.net - Bengaluru,...</td>\n",
       "      <td>+30 days ago</td>\n",
       "      <td>EagleView Technologies</td>\n",
       "      <td>Bengaluru, KT</td>\n",
       "    </tr>\n",
       "    <tr>\n",
       "      <th>13</th>\n",
       "      <td>Technical Support Engineer 3 (Developer, EMEA)</td>\n",
       "      <td>+30 days ago</td>\n",
       "      <td>Twilio</td>\n",
       "      <td>Bengaluru, Karnataka, KT</td>\n",
       "    </tr>\n",
       "    <tr>\n",
       "      <th>14</th>\n",
       "      <td>Senior Software Engineer - (.Net) - Bangalore,...</td>\n",
       "      <td>+30 days ago</td>\n",
       "      <td>MRI Software</td>\n",
       "      <td>Bangalore, KT</td>\n",
       "    </tr>\n",
       "    <tr>\n",
       "      <th>15</th>\n",
       "      <td>Senior Software Engineer -  Backend (GoLang/Ja...</td>\n",
       "      <td>+30 days ago</td>\n",
       "      <td>EagleView Technologies</td>\n",
       "      <td>Bengaluru, KT</td>\n",
       "    </tr>\n",
       "    <tr>\n",
       "      <th>16</th>\n",
       "      <td>Software Engineer (Progress 4GL) - Bangalore, ...</td>\n",
       "      <td>+30 days ago</td>\n",
       "      <td>MRI Software</td>\n",
       "      <td>Bangalore, KT</td>\n",
       "    </tr>\n",
       "    <tr>\n",
       "      <th>17</th>\n",
       "      <td>Software Engineer</td>\n",
       "      <td>+30 days ago</td>\n",
       "      <td>Twilio</td>\n",
       "      <td>Bengaluru, Karnataka, KT</td>\n",
       "    </tr>\n",
       "    <tr>\n",
       "      <th>18</th>\n",
       "      <td>Senior Software Engineer - Fullstack (GoLang/J...</td>\n",
       "      <td>+30 days ago</td>\n",
       "      <td>EagleView Technologies</td>\n",
       "      <td>Bengaluru, KT</td>\n",
       "    </tr>\n",
       "    <tr>\n",
       "      <th>19</th>\n",
       "      <td>Staff Software Engineer</td>\n",
       "      <td>+30 days ago</td>\n",
       "      <td>Twilio</td>\n",
       "      <td>Bengaluru, Karnataka, KT</td>\n",
       "    </tr>\n",
       "    <tr>\n",
       "      <th>20</th>\n",
       "      <td>Software Engineer - (.Net) - Bangalore, Karnataka</td>\n",
       "      <td>+30 days ago</td>\n",
       "      <td>MRI Software</td>\n",
       "      <td>Bangalore, KT</td>\n",
       "    </tr>\n",
       "    <tr>\n",
       "      <th>21</th>\n",
       "      <td>Senior Software Engineer - IW - Bengaluru, Kar...</td>\n",
       "      <td>+30 days ago</td>\n",
       "      <td>EagleView Technologies</td>\n",
       "      <td>Bengaluru, KT</td>\n",
       "    </tr>\n",
       "    <tr>\n",
       "      <th>22</th>\n",
       "      <td>Senior LAMP Developer - Bangalore, Karnataka</td>\n",
       "      <td>+30 days ago</td>\n",
       "      <td>MRI Software</td>\n",
       "      <td>Bangalore, KT</td>\n",
       "    </tr>\n",
       "    <tr>\n",
       "      <th>23</th>\n",
       "      <td>Software Engineer - Consumer Trust -P2</td>\n",
       "      <td>+30 days ago</td>\n",
       "      <td>Twilio</td>\n",
       "      <td>Bengaluru, Karnataka, KT</td>\n",
       "    </tr>\n",
       "    <tr>\n",
       "      <th>24</th>\n",
       "      <td>Software Engineer - (.Net) - Bangalore, Karnataka</td>\n",
       "      <td>+30 days ago</td>\n",
       "      <td>MRI Software</td>\n",
       "      <td>Bangalore, KT</td>\n",
       "    </tr>\n",
       "  </tbody>\n",
       "</table>\n",
       "</div>"
      ],
      "text/plain": [
       "                                                 jobs          Days  \\\n",
       "0   Senior Software Engineer - Backend (GoLang/Jav...   27 days ago   \n",
       "1   Software Engineer - .Net Core & Vue JS - Banga...  +30 days ago   \n",
       "2                   Power BI developer - Remote India    2 days ago   \n",
       "3        Staff Software Engineer - Consumer Trust -P4    6 days ago   \n",
       "4   Senior Software Engineer - .Net core & Vue JS ...  +30 days ago   \n",
       "5   Software Engineer II - Backend (GoLang) - Beng...  +30 days ago   \n",
       "6       Senior Software Engineer - Consumer Trust -P3   21 days ago   \n",
       "7                       Staff, Software Engineer (L4)   30 days ago   \n",
       "8     Software Engineer - .Net - Bangalore, Karnataka  +30 days ago   \n",
       "9   Software Engineer I - C#.net - Bengaluru, Karn...  +30 days ago   \n",
       "10                             Software Engineer (L3)  +30 days ago   \n",
       "11  Senior Software Engineer - (Angular) - Bangalo...  +30 days ago   \n",
       "12  Senior Software Engineer - C#.net - Bengaluru,...  +30 days ago   \n",
       "13     Technical Support Engineer 3 (Developer, EMEA)  +30 days ago   \n",
       "14  Senior Software Engineer - (.Net) - Bangalore,...  +30 days ago   \n",
       "15  Senior Software Engineer -  Backend (GoLang/Ja...  +30 days ago   \n",
       "16  Software Engineer (Progress 4GL) - Bangalore, ...  +30 days ago   \n",
       "17                                  Software Engineer  +30 days ago   \n",
       "18  Senior Software Engineer - Fullstack (GoLang/J...  +30 days ago   \n",
       "19                            Staff Software Engineer  +30 days ago   \n",
       "20  Software Engineer - (.Net) - Bangalore, Karnataka  +30 days ago   \n",
       "21  Senior Software Engineer - IW - Bengaluru, Kar...  +30 days ago   \n",
       "22       Senior LAMP Developer - Bangalore, Karnataka  +30 days ago   \n",
       "23             Software Engineer - Consumer Trust -P2  +30 days ago   \n",
       "24  Software Engineer - (.Net) - Bangalore, Karnataka  +30 days ago   \n",
       "\n",
       "                   Company                  Location  \n",
       "0   EagleView Technologies             Bengaluru, KT  \n",
       "1             MRI Software             Bangalore, KT  \n",
       "2     Matchpoint Solutions                    Remote  \n",
       "3                   Twilio  Bengaluru, Karnataka, KT  \n",
       "4             MRI Software             Bangalore, KT  \n",
       "5   EagleView Technologies             Bengaluru, KT  \n",
       "6                   Twilio  Bengaluru, Karnataka, KT  \n",
       "7                   Twilio  Bengaluru, Karnataka, KT  \n",
       "8             MRI Software             Bangalore, KT  \n",
       "9   EagleView Technologies             Bengaluru, KT  \n",
       "10                  Twilio  Bengaluru, Karnataka, KT  \n",
       "11            MRI Software             Bangalore, KT  \n",
       "12  EagleView Technologies             Bengaluru, KT  \n",
       "13                  Twilio  Bengaluru, Karnataka, KT  \n",
       "14            MRI Software             Bangalore, KT  \n",
       "15  EagleView Technologies             Bengaluru, KT  \n",
       "16            MRI Software             Bangalore, KT  \n",
       "17                  Twilio  Bengaluru, Karnataka, KT  \n",
       "18  EagleView Technologies             Bengaluru, KT  \n",
       "19                  Twilio  Bengaluru, Karnataka, KT  \n",
       "20            MRI Software             Bangalore, KT  \n",
       "21  EagleView Technologies             Bengaluru, KT  \n",
       "22            MRI Software             Bangalore, KT  \n",
       "23                  Twilio  Bengaluru, Karnataka, KT  \n",
       "24            MRI Software             Bangalore, KT  "
      ]
     },
     "execution_count": 48,
     "metadata": {},
     "output_type": "execute_result"
    }
   ],
   "source": [
    "monster_jobs"
   ]
  },
  {
   "cell_type": "markdown",
   "metadata": {},
   "source": [
    "# Assignment no. 10. Write a python program to scrape ‘data scientist’ job listings for location ‘New Delhi’ from ‘Monster.com’. It should include all the jobs listed for the next 5 pages."
   ]
  },
  {
   "cell_type": "code",
   "execution_count": 49,
   "metadata": {},
   "outputs": [],
   "source": [
    "# Monster.com has no job listings for Data Scientist in New Delhi. Hence, I am scraping the job listings for Data Scientists in India.\n",
    "# Note: Monster.com has only four listings for Data Scientists in India as per the observation from below mentioned website.\n",
    "page=requests.get(\"https://www.monster.com/jobs/search/?q=data-science&where=india\")"
   ]
  },
  {
   "cell_type": "code",
   "execution_count": 50,
   "metadata": {},
   "outputs": [],
   "source": [
    "soup=BeautifulSoup(page.content,'html.parser')"
   ]
  },
  {
   "cell_type": "code",
   "execution_count": 51,
   "metadata": {},
   "outputs": [],
   "source": [
    "jobs=[]\n",
    "Days=[]\n",
    "Company=[]\n",
    "Location=[]"
   ]
  },
  {
   "cell_type": "code",
   "execution_count": 52,
   "metadata": {},
   "outputs": [],
   "source": [
    "job=soup.find_all('h2',class_='title')\n",
    "for i in job:\n",
    "    jobs.append(i.text.replace('\\r\\n',''))"
   ]
  },
  {
   "cell_type": "code",
   "execution_count": 53,
   "metadata": {},
   "outputs": [
    {
     "data": {
      "text/plain": [
       "['Lead Data Scientist - Bengaluru, Karnataka',\n",
       " 'Senior Data Scientist - Bengaluru, Karnataka',\n",
       " 'IT JOBS HYDERABAD,TELANAGANA,INDIA',\n",
       " 'Senior Engineering Manager, Machine Learning']"
      ]
     },
     "execution_count": 53,
     "metadata": {},
     "output_type": "execute_result"
    }
   ],
   "source": [
    "jobs"
   ]
  },
  {
   "cell_type": "code",
   "execution_count": 54,
   "metadata": {},
   "outputs": [],
   "source": [
    "day=soup.find_all('div',class_='meta flex-col')\n",
    "for i in day:\n",
    "    Days.append(i.text.replace('\\n','').replace('AppliedSaved',''))"
   ]
  },
  {
   "cell_type": "code",
   "execution_count": 55,
   "metadata": {},
   "outputs": [
    {
     "data": {
      "text/plain": [
       "['+30 days ago', '+30 days ago', '+30 days ago', '+30 days ago']"
      ]
     },
     "execution_count": 55,
     "metadata": {},
     "output_type": "execute_result"
    }
   ],
   "source": [
    "Days"
   ]
  },
  {
   "cell_type": "code",
   "execution_count": 56,
   "metadata": {},
   "outputs": [],
   "source": [
    "comp=soup.find_all('span',class_='name')\n",
    "# Even Indices are companies\n",
    "for i in range(0,len(comp),2):\n",
    "    Company.append(comp[i].text)"
   ]
  },
  {
   "cell_type": "code",
   "execution_count": 57,
   "metadata": {},
   "outputs": [
    {
     "data": {
      "text/plain": [
       "['EagleView Technologies',\n",
       " 'EagleView Technologies',\n",
       " 'GENUINE IT JOBS HYDERABAD',\n",
       " 'Twilio']"
      ]
     },
     "execution_count": 57,
     "metadata": {},
     "output_type": "execute_result"
    }
   ],
   "source": [
    "Company"
   ]
  },
  {
   "cell_type": "code",
   "execution_count": 58,
   "metadata": {},
   "outputs": [],
   "source": [
    "# Odd Indices are locations\n",
    "for i in range(1,len(comp),2):\n",
    "    Location.append(comp[i].text.replace('\\r\\n',''))"
   ]
  },
  {
   "cell_type": "code",
   "execution_count": 59,
   "metadata": {},
   "outputs": [
    {
     "data": {
      "text/plain": [
       "['Bengaluru, KT',\n",
       " 'Bengaluru, KT',\n",
       " 'HYDERABAD,TELANGANA,INDIA, AS',\n",
       " 'Bengaluru, Karnataka, KT']"
      ]
     },
     "execution_count": 59,
     "metadata": {},
     "output_type": "execute_result"
    }
   ],
   "source": [
    "Location"
   ]
  },
  {
   "cell_type": "code",
   "execution_count": 60,
   "metadata": {},
   "outputs": [],
   "source": [
    "import pandas as pd\n",
    "monster_data_scientist_jobs=pd.DataFrame({})\n",
    "monster_data_scientist_jobs['jobs']=jobs\n",
    "monster_data_scientist_jobs['Days']=Days\n",
    "monster_data_scientist_jobs['Company']=Company\n",
    "monster_data_scientist_jobs['Location']=Location"
   ]
  },
  {
   "cell_type": "code",
   "execution_count": 61,
   "metadata": {},
   "outputs": [
    {
     "data": {
      "text/html": [
       "<div>\n",
       "<style scoped>\n",
       "    .dataframe tbody tr th:only-of-type {\n",
       "        vertical-align: middle;\n",
       "    }\n",
       "\n",
       "    .dataframe tbody tr th {\n",
       "        vertical-align: top;\n",
       "    }\n",
       "\n",
       "    .dataframe thead th {\n",
       "        text-align: right;\n",
       "    }\n",
       "</style>\n",
       "<table border=\"1\" class=\"dataframe\">\n",
       "  <thead>\n",
       "    <tr style=\"text-align: right;\">\n",
       "      <th></th>\n",
       "      <th>jobs</th>\n",
       "      <th>Days</th>\n",
       "      <th>Company</th>\n",
       "      <th>Location</th>\n",
       "    </tr>\n",
       "  </thead>\n",
       "  <tbody>\n",
       "    <tr>\n",
       "      <th>0</th>\n",
       "      <td>Lead Data Scientist - Bengaluru, Karnataka</td>\n",
       "      <td>+30 days ago</td>\n",
       "      <td>EagleView Technologies</td>\n",
       "      <td>Bengaluru, KT</td>\n",
       "    </tr>\n",
       "    <tr>\n",
       "      <th>1</th>\n",
       "      <td>Senior Data Scientist - Bengaluru, Karnataka</td>\n",
       "      <td>+30 days ago</td>\n",
       "      <td>EagleView Technologies</td>\n",
       "      <td>Bengaluru, KT</td>\n",
       "    </tr>\n",
       "    <tr>\n",
       "      <th>2</th>\n",
       "      <td>IT JOBS HYDERABAD,TELANAGANA,INDIA</td>\n",
       "      <td>+30 days ago</td>\n",
       "      <td>GENUINE IT JOBS HYDERABAD</td>\n",
       "      <td>HYDERABAD,TELANGANA,INDIA, AS</td>\n",
       "    </tr>\n",
       "    <tr>\n",
       "      <th>3</th>\n",
       "      <td>Senior Engineering Manager, Machine Learning</td>\n",
       "      <td>+30 days ago</td>\n",
       "      <td>Twilio</td>\n",
       "      <td>Bengaluru, Karnataka, KT</td>\n",
       "    </tr>\n",
       "  </tbody>\n",
       "</table>\n",
       "</div>"
      ],
      "text/plain": [
       "                                           jobs          Days  \\\n",
       "0    Lead Data Scientist - Bengaluru, Karnataka  +30 days ago   \n",
       "1  Senior Data Scientist - Bengaluru, Karnataka  +30 days ago   \n",
       "2            IT JOBS HYDERABAD,TELANAGANA,INDIA  +30 days ago   \n",
       "3  Senior Engineering Manager, Machine Learning  +30 days ago   \n",
       "\n",
       "                     Company                       Location  \n",
       "0     EagleView Technologies                  Bengaluru, KT  \n",
       "1     EagleView Technologies                  Bengaluru, KT  \n",
       "2  GENUINE IT JOBS HYDERABAD  HYDERABAD,TELANGANA,INDIA, AS  \n",
       "3                     Twilio       Bengaluru, Karnataka, KT  "
      ]
     },
     "execution_count": 61,
     "metadata": {},
     "output_type": "execute_result"
    }
   ],
   "source": [
    "monster_data_scientist_jobs"
   ]
  },
  {
   "cell_type": "code",
   "execution_count": null,
   "metadata": {},
   "outputs": [],
   "source": []
  }
 ],
 "metadata": {
  "kernelspec": {
   "display_name": "Python 3",
   "language": "python",
   "name": "python3"
  },
  "language_info": {
   "codemirror_mode": {
    "name": "ipython",
    "version": 3
   },
   "file_extension": ".py",
   "mimetype": "text/x-python",
   "name": "python",
   "nbconvert_exporter": "python",
   "pygments_lexer": "ipython3",
   "version": "3.7.6"
  }
 },
 "nbformat": 4,
 "nbformat_minor": 4
}
